{
  "nbformat": 4,
  "nbformat_minor": 0,
  "metadata": {
    "colab": {
      "name": "covid19.ipynb",
      "provenance": [],
      "authorship_tag": "ABX9TyMpMm+kLFDqptPk4jkogGkC",
      "include_colab_link": true
    },
    "kernelspec": {
      "name": "python3",
      "display_name": "Python 3"
    }
  },
  "cells": [
    {
      "cell_type": "markdown",
      "metadata": {
        "id": "view-in-github",
        "colab_type": "text"
      },
      "source": [
        "<a href=\"https://colab.research.google.com/github/ChaoticMarauder/Deterministic_Model/blob/master/covid19.ipynb\" target=\"_parent\"><img src=\"https://colab.research.google.com/assets/colab-badge.svg\" alt=\"Open In Colab\"/></a>"
      ]
    },
    {
      "cell_type": "markdown",
      "metadata": {
        "id": "qBTU0RYAlKVF",
        "colab_type": "text"
      },
      "source": [
        "DISTRICT DATA COLLECTION"
      ]
    },
    {
      "cell_type": "code",
      "metadata": {
        "id": "GcZ3BqPflZjb",
        "colab_type": "code",
        "outputId": "589bb18d-4157-4cd0-bff1-e4a399368d0f",
        "colab": {
          "resources": {
            "http://localhost:8080/nbextensions/google.colab/files.js": {
              "data": "Ly8gQ29weXJpZ2h0IDIwMTcgR29vZ2xlIExMQwovLwovLyBMaWNlbnNlZCB1bmRlciB0aGUgQXBhY2hlIExpY2Vuc2UsIFZlcnNpb24gMi4wICh0aGUgIkxpY2Vuc2UiKTsKLy8geW91IG1heSBub3QgdXNlIHRoaXMgZmlsZSBleGNlcHQgaW4gY29tcGxpYW5jZSB3aXRoIHRoZSBMaWNlbnNlLgovLyBZb3UgbWF5IG9idGFpbiBhIGNvcHkgb2YgdGhlIExpY2Vuc2UgYXQKLy8KLy8gICAgICBodHRwOi8vd3d3LmFwYWNoZS5vcmcvbGljZW5zZXMvTElDRU5TRS0yLjAKLy8KLy8gVW5sZXNzIHJlcXVpcmVkIGJ5IGFwcGxpY2FibGUgbGF3IG9yIGFncmVlZCB0byBpbiB3cml0aW5nLCBzb2Z0d2FyZQovLyBkaXN0cmlidXRlZCB1bmRlciB0aGUgTGljZW5zZSBpcyBkaXN0cmlidXRlZCBvbiBhbiAiQVMgSVMiIEJBU0lTLAovLyBXSVRIT1VUIFdBUlJBTlRJRVMgT1IgQ09ORElUSU9OUyBPRiBBTlkgS0lORCwgZWl0aGVyIGV4cHJlc3Mgb3IgaW1wbGllZC4KLy8gU2VlIHRoZSBMaWNlbnNlIGZvciB0aGUgc3BlY2lmaWMgbGFuZ3VhZ2UgZ292ZXJuaW5nIHBlcm1pc3Npb25zIGFuZAovLyBsaW1pdGF0aW9ucyB1bmRlciB0aGUgTGljZW5zZS4KCi8qKgogKiBAZmlsZW92ZXJ2aWV3IEhlbHBlcnMgZm9yIGdvb2dsZS5jb2xhYiBQeXRob24gbW9kdWxlLgogKi8KKGZ1bmN0aW9uKHNjb3BlKSB7CmZ1bmN0aW9uIHNwYW4odGV4dCwgc3R5bGVBdHRyaWJ1dGVzID0ge30pIHsKICBjb25zdCBlbGVtZW50ID0gZG9jdW1lbnQuY3JlYXRlRWxlbWVudCgnc3BhbicpOwogIGVsZW1lbnQudGV4dENvbnRlbnQgPSB0ZXh0OwogIGZvciAoY29uc3Qga2V5IG9mIE9iamVjdC5rZXlzKHN0eWxlQXR0cmlidXRlcykpIHsKICAgIGVsZW1lbnQuc3R5bGVba2V5XSA9IHN0eWxlQXR0cmlidXRlc1trZXldOwogIH0KICByZXR1cm4gZWxlbWVudDsKfQoKLy8gTWF4IG51bWJlciBvZiBieXRlcyB3aGljaCB3aWxsIGJlIHVwbG9hZGVkIGF0IGEgdGltZS4KY29uc3QgTUFYX1BBWUxPQURfU0laRSA9IDEwMCAqIDEwMjQ7Ci8vIE1heCBhbW91bnQgb2YgdGltZSB0byBibG9jayB3YWl0aW5nIGZvciB0aGUgdXNlci4KY29uc3QgRklMRV9DSEFOR0VfVElNRU9VVF9NUyA9IDMwICogMTAwMDsKCmZ1bmN0aW9uIF91cGxvYWRGaWxlcyhpbnB1dElkLCBvdXRwdXRJZCkgewogIGNvbnN0IHN0ZXBzID0gdXBsb2FkRmlsZXNTdGVwKGlucHV0SWQsIG91dHB1dElkKTsKICBjb25zdCBvdXRwdXRFbGVtZW50ID0gZG9jdW1lbnQuZ2V0RWxlbWVudEJ5SWQob3V0cHV0SWQpOwogIC8vIENhY2hlIHN0ZXBzIG9uIHRoZSBvdXRwdXRFbGVtZW50IHRvIG1ha2UgaXQgYXZhaWxhYmxlIGZvciB0aGUgbmV4dCBjYWxsCiAgLy8gdG8gdXBsb2FkRmlsZXNDb250aW51ZSBmcm9tIFB5dGhvbi4KICBvdXRwdXRFbGVtZW50LnN0ZXBzID0gc3RlcHM7CgogIHJldHVybiBfdXBsb2FkRmlsZXNDb250aW51ZShvdXRwdXRJZCk7Cn0KCi8vIFRoaXMgaXMgcm91Z2hseSBhbiBhc3luYyBnZW5lcmF0b3IgKG5vdCBzdXBwb3J0ZWQgaW4gdGhlIGJyb3dzZXIgeWV0KSwKLy8gd2hlcmUgdGhlcmUgYXJlIG11bHRpcGxlIGFzeW5jaHJvbm91cyBzdGVwcyBhbmQgdGhlIFB5dGhvbiBzaWRlIGlzIGdvaW5nCi8vIHRvIHBvbGwgZm9yIGNvbXBsZXRpb24gb2YgZWFjaCBzdGVwLgovLyBUaGlzIHVzZXMgYSBQcm9taXNlIHRvIGJsb2NrIHRoZSBweXRob24gc2lkZSBvbiBjb21wbGV0aW9uIG9mIGVhY2ggc3RlcCwKLy8gdGhlbiBwYXNzZXMgdGhlIHJlc3VsdCBvZiB0aGUgcHJldmlvdXMgc3RlcCBhcyB0aGUgaW5wdXQgdG8gdGhlIG5leHQgc3RlcC4KZnVuY3Rpb24gX3VwbG9hZEZpbGVzQ29udGludWUob3V0cHV0SWQpIHsKICBjb25zdCBvdXRwdXRFbGVtZW50ID0gZG9jdW1lbnQuZ2V0RWxlbWVudEJ5SWQob3V0cHV0SWQpOwogIGNvbnN0IHN0ZXBzID0gb3V0cHV0RWxlbWVudC5zdGVwczsKCiAgY29uc3QgbmV4dCA9IHN0ZXBzLm5leHQob3V0cHV0RWxlbWVudC5sYXN0UHJvbWlzZVZhbHVlKTsKICByZXR1cm4gUHJvbWlzZS5yZXNvbHZlKG5leHQudmFsdWUucHJvbWlzZSkudGhlbigodmFsdWUpID0+IHsKICAgIC8vIENhY2hlIHRoZSBsYXN0IHByb21pc2UgdmFsdWUgdG8gbWFrZSBpdCBhdmFpbGFibGUgdG8gdGhlIG5leHQKICAgIC8vIHN0ZXAgb2YgdGhlIGdlbmVyYXRvci4KICAgIG91dHB1dEVsZW1lbnQubGFzdFByb21pc2VWYWx1ZSA9IHZhbHVlOwogICAgcmV0dXJuIG5leHQudmFsdWUucmVzcG9uc2U7CiAgfSk7Cn0KCi8qKgogKiBHZW5lcmF0b3IgZnVuY3Rpb24gd2hpY2ggaXMgY2FsbGVkIGJldHdlZW4gZWFjaCBhc3luYyBzdGVwIG9mIHRoZSB1cGxvYWQKICogcHJvY2Vzcy4KICogQHBhcmFtIHtzdHJpbmd9IGlucHV0SWQgRWxlbWVudCBJRCBvZiB0aGUgaW5wdXQgZmlsZSBwaWNrZXIgZWxlbWVudC4KICogQHBhcmFtIHtzdHJpbmd9IG91dHB1dElkIEVsZW1lbnQgSUQgb2YgdGhlIG91dHB1dCBkaXNwbGF5LgogKiBAcmV0dXJuIHshSXRlcmFibGU8IU9iamVjdD59IEl0ZXJhYmxlIG9mIG5leHQgc3RlcHMuCiAqLwpmdW5jdGlvbiogdXBsb2FkRmlsZXNTdGVwKGlucHV0SWQsIG91dHB1dElkKSB7CiAgY29uc3QgaW5wdXRFbGVtZW50ID0gZG9jdW1lbnQuZ2V0RWxlbWVudEJ5SWQoaW5wdXRJZCk7CiAgaW5wdXRFbGVtZW50LmRpc2FibGVkID0gZmFsc2U7CgogIGNvbnN0IG91dHB1dEVsZW1lbnQgPSBkb2N1bWVudC5nZXRFbGVtZW50QnlJZChvdXRwdXRJZCk7CiAgb3V0cHV0RWxlbWVudC5pbm5lckhUTUwgPSAnJzsKCiAgY29uc3QgcGlja2VkUHJvbWlzZSA9IG5ldyBQcm9taXNlKChyZXNvbHZlKSA9PiB7CiAgICBpbnB1dEVsZW1lbnQuYWRkRXZlbnRMaXN0ZW5lcignY2hhbmdlJywgKGUpID0+IHsKICAgICAgcmVzb2x2ZShlLnRhcmdldC5maWxlcyk7CiAgICB9KTsKICB9KTsKCiAgY29uc3QgY2FuY2VsID0gZG9jdW1lbnQuY3JlYXRlRWxlbWVudCgnYnV0dG9uJyk7CiAgaW5wdXRFbGVtZW50LnBhcmVudEVsZW1lbnQuYXBwZW5kQ2hpbGQoY2FuY2VsKTsKICBjYW5jZWwudGV4dENvbnRlbnQgPSAnQ2FuY2VsIHVwbG9hZCc7CiAgY29uc3QgY2FuY2VsUHJvbWlzZSA9IG5ldyBQcm9taXNlKChyZXNvbHZlKSA9PiB7CiAgICBjYW5jZWwub25jbGljayA9ICgpID0+IHsKICAgICAgcmVzb2x2ZShudWxsKTsKICAgIH07CiAgfSk7CgogIC8vIENhbmNlbCB1cGxvYWQgaWYgdXNlciBoYXNuJ3QgcGlja2VkIGFueXRoaW5nIGluIHRpbWVvdXQuCiAgY29uc3QgdGltZW91dFByb21pc2UgPSBuZXcgUHJvbWlzZSgocmVzb2x2ZSkgPT4gewogICAgc2V0VGltZW91dCgoKSA9PiB7CiAgICAgIHJlc29sdmUobnVsbCk7CiAgICB9LCBGSUxFX0NIQU5HRV9USU1FT1VUX01TKTsKICB9KTsKCiAgLy8gV2FpdCBmb3IgdGhlIHVzZXIgdG8gcGljayB0aGUgZmlsZXMuCiAgY29uc3QgZmlsZXMgPSB5aWVsZCB7CiAgICBwcm9taXNlOiBQcm9taXNlLnJhY2UoW3BpY2tlZFByb21pc2UsIHRpbWVvdXRQcm9taXNlLCBjYW5jZWxQcm9taXNlXSksCiAgICByZXNwb25zZTogewogICAgICBhY3Rpb246ICdzdGFydGluZycsCiAgICB9CiAgfTsKCiAgaWYgKCFmaWxlcykgewogICAgcmV0dXJuIHsKICAgICAgcmVzcG9uc2U6IHsKICAgICAgICBhY3Rpb246ICdjb21wbGV0ZScsCiAgICAgIH0KICAgIH07CiAgfQoKICBjYW5jZWwucmVtb3ZlKCk7CgogIC8vIERpc2FibGUgdGhlIGlucHV0IGVsZW1lbnQgc2luY2UgZnVydGhlciBwaWNrcyBhcmUgbm90IGFsbG93ZWQuCiAgaW5wdXRFbGVtZW50LmRpc2FibGVkID0gdHJ1ZTsKCiAgZm9yIChjb25zdCBmaWxlIG9mIGZpbGVzKSB7CiAgICBjb25zdCBsaSA9IGRvY3VtZW50LmNyZWF0ZUVsZW1lbnQoJ2xpJyk7CiAgICBsaS5hcHBlbmQoc3BhbihmaWxlLm5hbWUsIHtmb250V2VpZ2h0OiAnYm9sZCd9KSk7CiAgICBsaS5hcHBlbmQoc3BhbigKICAgICAgICBgKCR7ZmlsZS50eXBlIHx8ICduL2EnfSkgLSAke2ZpbGUuc2l6ZX0gYnl0ZXMsIGAgKwogICAgICAgIGBsYXN0IG1vZGlmaWVkOiAkewogICAgICAgICAgICBmaWxlLmxhc3RNb2RpZmllZERhdGUgPyBmaWxlLmxhc3RNb2RpZmllZERhdGUudG9Mb2NhbGVEYXRlU3RyaW5nKCkgOgogICAgICAgICAgICAgICAgICAgICAgICAgICAgICAgICAgICAnbi9hJ30gLSBgKSk7CiAgICBjb25zdCBwZXJjZW50ID0gc3BhbignMCUgZG9uZScpOwogICAgbGkuYXBwZW5kQ2hpbGQocGVyY2VudCk7CgogICAgb3V0cHV0RWxlbWVudC5hcHBlbmRDaGlsZChsaSk7CgogICAgY29uc3QgZmlsZURhdGFQcm9taXNlID0gbmV3IFByb21pc2UoKHJlc29sdmUpID0+IHsKICAgICAgY29uc3QgcmVhZGVyID0gbmV3IEZpbGVSZWFkZXIoKTsKICAgICAgcmVhZGVyLm9ubG9hZCA9IChlKSA9PiB7CiAgICAgICAgcmVzb2x2ZShlLnRhcmdldC5yZXN1bHQpOwogICAgICB9OwogICAgICByZWFkZXIucmVhZEFzQXJyYXlCdWZmZXIoZmlsZSk7CiAgICB9KTsKICAgIC8vIFdhaXQgZm9yIHRoZSBkYXRhIHRvIGJlIHJlYWR5LgogICAgbGV0IGZpbGVEYXRhID0geWllbGQgewogICAgICBwcm9taXNlOiBmaWxlRGF0YVByb21pc2UsCiAgICAgIHJlc3BvbnNlOiB7CiAgICAgICAgYWN0aW9uOiAnY29udGludWUnLAogICAgICB9CiAgICB9OwoKICAgIC8vIFVzZSBhIGNodW5rZWQgc2VuZGluZyB0byBhdm9pZCBtZXNzYWdlIHNpemUgbGltaXRzLiBTZWUgYi82MjExNTY2MC4KICAgIGxldCBwb3NpdGlvbiA9IDA7CiAgICB3aGlsZSAocG9zaXRpb24gPCBmaWxlRGF0YS5ieXRlTGVuZ3RoKSB7CiAgICAgIGNvbnN0IGxlbmd0aCA9IE1hdGgubWluKGZpbGVEYXRhLmJ5dGVMZW5ndGggLSBwb3NpdGlvbiwgTUFYX1BBWUxPQURfU0laRSk7CiAgICAgIGNvbnN0IGNodW5rID0gbmV3IFVpbnQ4QXJyYXkoZmlsZURhdGEsIHBvc2l0aW9uLCBsZW5ndGgpOwogICAgICBwb3NpdGlvbiArPSBsZW5ndGg7CgogICAgICBjb25zdCBiYXNlNjQgPSBidG9hKFN0cmluZy5mcm9tQ2hhckNvZGUuYXBwbHkobnVsbCwgY2h1bmspKTsKICAgICAgeWllbGQgewogICAgICAgIHJlc3BvbnNlOiB7CiAgICAgICAgICBhY3Rpb246ICdhcHBlbmQnLAogICAgICAgICAgZmlsZTogZmlsZS5uYW1lLAogICAgICAgICAgZGF0YTogYmFzZTY0LAogICAgICAgIH0sCiAgICAgIH07CiAgICAgIHBlcmNlbnQudGV4dENvbnRlbnQgPQogICAgICAgICAgYCR7TWF0aC5yb3VuZCgocG9zaXRpb24gLyBmaWxlRGF0YS5ieXRlTGVuZ3RoKSAqIDEwMCl9JSBkb25lYDsKICAgIH0KICB9CgogIC8vIEFsbCBkb25lLgogIHlpZWxkIHsKICAgIHJlc3BvbnNlOiB7CiAgICAgIGFjdGlvbjogJ2NvbXBsZXRlJywKICAgIH0KICB9Owp9CgpzY29wZS5nb29nbGUgPSBzY29wZS5nb29nbGUgfHwge307CnNjb3BlLmdvb2dsZS5jb2xhYiA9IHNjb3BlLmdvb2dsZS5jb2xhYiB8fCB7fTsKc2NvcGUuZ29vZ2xlLmNvbGFiLl9maWxlcyA9IHsKICBfdXBsb2FkRmlsZXMsCiAgX3VwbG9hZEZpbGVzQ29udGludWUsCn07Cn0pKHNlbGYpOwo=",
              "ok": true,
              "headers": [
                [
                  "content-type",
                  "application/javascript"
                ]
              ],
              "status": 200,
              "status_text": ""
            }
          },
          "base_uri": "https://localhost:8080/",
          "height": 74
        }
      },
      "source": [
        "from google.colab import files\n",
        "uploaded = files.upload()"
      ],
      "execution_count": 0,
      "outputs": [
        {
          "output_type": "display_data",
          "data": {
            "text/html": [
              "\n",
              "     <input type=\"file\" id=\"files-f63816d6-6ee7-46fe-b995-16eb6a0f558a\" name=\"files[]\" multiple disabled />\n",
              "     <output id=\"result-f63816d6-6ee7-46fe-b995-16eb6a0f558a\">\n",
              "      Upload widget is only available when the cell has been executed in the\n",
              "      current browser session. Please rerun this cell to enable.\n",
              "      </output>\n",
              "      <script src=\"/nbextensions/google.colab/files.js\"></script> "
            ],
            "text/plain": [
              "<IPython.core.display.HTML object>"
            ]
          },
          "metadata": {
            "tags": []
          }
        },
        {
          "output_type": "stream",
          "text": [
            "Saving patients.csv to patients.csv\n"
          ],
          "name": "stdout"
        }
      ]
    },
    {
      "cell_type": "code",
      "metadata": {
        "id": "jAYwxDPnlmvn",
        "colab_type": "code",
        "colab": {}
      },
      "source": [
        "import pandas as pd\n",
        "\n",
        "df=pd.read_csv('patients.csv')\n",
        "district_df = df.groupby('detecteddistrict')\n",
        "\n",
        "district_list=[]\n",
        "total_cases_list=[]\n",
        "for name, group in district_df:  \n",
        "    district_list.append(name)\n",
        "    total_cases_list.append(len(group.index))\n",
        "\n",
        "consolidated_df=pd.DataFrame(list(zip(district_list, total_cases_list)), \n",
        "               columns =['district_name', 'total_cases']) \n",
        "consolidated_df.sort_values(by=['total_cases'], inplace=True, ascending=False)\n",
        "\n",
        "ordered_district_list=consolidated_df['district_name'].tolist()\n",
        "consolidated_df.to_csv('district_final.csv', header=False, index=False)"
      ],
      "execution_count": 0,
      "outputs": []
    },
    {
      "cell_type": "code",
      "metadata": {
        "id": "XA9s8AP5luNn",
        "colab_type": "code",
        "colab": {}
      },
      "source": [
        "from google.colab import files\n",
        "files.download('district_final.csv') "
      ],
      "execution_count": 0,
      "outputs": []
    },
    {
      "cell_type": "markdown",
      "metadata": {
        "id": "IpCdoZSdl2ze",
        "colab_type": "text"
      },
      "source": [
        "TIME SERIES OF DISTRICTS"
      ]
    },
    {
      "cell_type": "code",
      "metadata": {
        "id": "_7WSCSPbl0O2",
        "colab_type": "code",
        "colab": {}
      },
      "source": [
        "#Mumbai\n",
        "import pandas as pd\n",
        "\n",
        "def Reverse(lst): \n",
        "    return [ele for ele in reversed(lst)] \n",
        "\n",
        "df=pd.read_csv('patients.csv')\n",
        "district_df = df.groupby('detecteddistrict')\n",
        "\n",
        "mum_df=district_df.get_group('Mumbai')\n",
        "mum_df_1=mum_df[['currentstatus','dateannounced','detecteddistrict','statuschangedate']]\n",
        "\n",
        "confirmed_list=[]\n",
        "deceased_list=[]\n",
        "recovered_list=[]\n",
        "\n",
        "confirmed_total=[]\n",
        "deceased_total=[]\n",
        "recovered_total=[]\n",
        "\n",
        "confirmed_t=0\n",
        "deceased_t=0\n",
        "recovered_t=0\n",
        "\n",
        "date_list=mum_df_1.dateannounced.unique()\n",
        "date_list=Reverse(date_list)\n",
        "\n",
        "for date in date_list:\n",
        "  confirmed=0\n",
        "  deceased=0\n",
        "  recovered=0\n",
        "  for index, row in mum_df_1.iterrows(): \n",
        "    if(row['dateannounced']==date):\n",
        "      confirmed+=1\n",
        "    if(row['statuschangedate']==date and row['currentstatus']=='Recovered'):\n",
        "      recovered+=1\n",
        "    if(row['statuschangedate']==date and row['currentstatus']=='Deceased'):\n",
        "      deceased+=1 \n",
        "  \n",
        "  confirmed_t+=confirmed\n",
        "  deceased_t+=deceased\n",
        "  recovered_t+=recovered\n",
        "  \n",
        "  confirmed_list.append(confirmed)\n",
        "  confirmed_total.append(confirmed_t)\n",
        "  deceased_list.append(deceased)\n",
        "  deceased_total.append(deceased_t)\n",
        "  recovered_list.append(recovered) \n",
        "  recovered_total.append(recovered_t)\n",
        "\n",
        "consolidated_df=pd.DataFrame(list(zip(date_list, confirmed_list, confirmed_total, recovered_list, recovered_total, deceased_list, deceased_total)), \n",
        "               columns =['date', 'confirmed_cases', 'total_confirmed', 'recovered_cases', 'total_recovered', 'deceased_cases', 'total_deceased'])\n",
        "\n",
        "consolidated_df.to_csv('mumbai.csv', header=False, index=False)"
      ],
      "execution_count": 0,
      "outputs": []
    },
    {
      "cell_type": "code",
      "metadata": {
        "id": "FkU8oLD5mOlP",
        "colab_type": "code",
        "colab": {}
      },
      "source": [
        "#All districts\n",
        "import pandas as pd\n",
        "\n",
        "def Reverse(lst): \n",
        "    return [ele for ele in reversed(lst)] \n",
        "\n",
        "df=pd.read_csv('patients.csv')\n",
        "district_df = df.groupby('detecteddistrict')\n",
        "district_list=[]\n",
        "total_cases_list=[]\n",
        "for name, group in district_df:  \n",
        "    district_list.append(name)\n",
        "    total_cases_list.append(len(group.index))\n",
        "\n",
        "consolidated_df=pd.DataFrame(list(zip(district_list, total_cases_list)), \n",
        "               columns =['district_name', 'total_cases']) \n",
        "consolidated_df.sort_values(by=['total_cases'], inplace=True, ascending=False)\n",
        "consolidated_df.to_csv('district_final.csv', header=False, index=False)\n",
        "\n",
        "for district in district_list:\n",
        "  mum_df=district_df.get_group(district)\n",
        "  mum_df_1=mum_df[['currentstatus','dateannounced','detecteddistrict','statuschangedate']]\n",
        "\n",
        "  confirmed_list=[]\n",
        "  deceased_list=[]\n",
        "  recovered_list=[]\n",
        "\n",
        "  confirmed_total=[]\n",
        "  deceased_total=[]\n",
        "  recovered_total=[]\n",
        "\n",
        "  confirmed_t=0\n",
        "  deceased_t=0\n",
        "  recovered_t=0\n",
        "\n",
        "  date_list=mum_df_1.dateannounced.unique()\n",
        "  date_list=Reverse(date_list)\n",
        "\n",
        "  for date in date_list:\n",
        "    confirmed=0\n",
        "    deceased=0\n",
        "    recovered=0\n",
        "    for index, row in mum_df_1.iterrows(): \n",
        "      if(row['dateannounced']==date):\n",
        "        confirmed+=1\n",
        "      if(row['statuschangedate']==date and row['currentstatus']=='Recovered'):\n",
        "        recovered+=1\n",
        "      if(row['statuschangedate']==date and row['currentstatus']=='Deceased'):\n",
        "        deceased+=1 \n",
        "  \n",
        "    confirmed_t+=confirmed\n",
        "    deceased_t+=deceased\n",
        "    recovered_t+=recovered\n",
        "  \n",
        "    confirmed_list.append(confirmed)\n",
        "    confirmed_total.append(confirmed_t)\n",
        "    deceased_list.append(deceased)\n",
        "    deceased_total.append(deceased_t)\n",
        "    recovered_list.append(recovered) \n",
        "    recovered_total.append(recovered_t)\n",
        "\n",
        "  final_df=pd.DataFrame(list(zip(date_list, confirmed_list, confirmed_total, recovered_list, recovered_total, deceased_list, deceased_total)), \n",
        "               columns =['date', 'confirmed_cases', 'total_confirmed', 'recovered_cases', 'total_recovered', 'deceased_cases', 'total_deceased'])\n",
        "\n",
        "  final_df.to_csv(district+'.csv', header=False, index=False)"
      ],
      "execution_count": 0,
      "outputs": []
    },
    {
      "cell_type": "markdown",
      "metadata": {
        "id": "vgr9AYK9orNB",
        "colab_type": "text"
      },
      "source": [
        "MODEL TRAINING FOR DISTRICT WISE DATA"
      ]
    },
    {
      "cell_type": "code",
      "metadata": {
        "id": "hjp5kCW7nbVz",
        "colab_type": "code",
        "colab": {}
      },
      "source": [
        "import numpy as np\n",
        "from scipy.integrate import odeint\n",
        "import matplotlib.pyplot as plt\n",
        "import matplotlib.ticker as ticker\n",
        "import csv\n",
        "\n",
        "N, T, t_l, t_e, t_changeKt, kspread = None, None, None, None, None, None # Set later depending on country\n",
        "samplesPerDay = 10\n",
        "\n",
        "startingTested = 14\n",
        "daysOffset = 14"
      ],
      "execution_count": 0,
      "outputs": []
    },
    {
      "cell_type": "code",
      "metadata": {
        "id": "bia2yblBn2FI",
        "colab_type": "code",
        "colab": {}
      },
      "source": [
        "## THE SIER-X MODEL\n",
        "def getPreds(beta = 0.2, beta1 = 0.1, sigma = 1/38.0, plot = False):\n",
        "    global N, T, t_l, t_e, t_changeKt, kspread\n",
        "    # Total population, N.\n",
        "\n",
        "    # Initial number of infected and recovered individuals, I0 and R0.\n",
        "    # Everyone else, S0, is susceptible to infection initially.\n",
        "\n",
        "    K0 = 1./7\n",
        "    MU = 1./7\n",
        "    gamma1 = 1./19\n",
        "    gamma2 = 1./14\n",
        "    gamma3 = 1./14\n",
        "    b1 = beta1\n",
        "    b2 = 0.1 * beta1\n",
        "    b3 = 0.002 * beta1\n",
        "    \n",
        "#     A0, I0, Xs0, Xa0, Xi0, P0, R0 = 1, 0, 0, 0, 0, 0, 0\n",
        "    totalInfected = startingTested * 20; pIgivenA = 0.33\n",
        "    A0 = totalInfected * (1.0 - pIgivenA) ;P0 = startingTested;I0 = totalInfected * pIgivenA - P0 ;Xs0 = 0;Xa0 = 0;Xi0 = 0; R0 = 0\n",
        "    \n",
        "    S0 = N - A0 - I0 - Xs0 - Xa0 - Xi0 - P0 - R0\n",
        "\n",
        "    t = np.linspace(0, T, samplesPerDay*T)\n",
        "\n",
        "    def deriv(y, t, N, beta):\n",
        "        S, A, I, Xs, Xa, Xi, P, R = y\n",
        "\n",
        "        if t < t_l or t > t_e:\n",
        "            k0 = 0\n",
        "        else:\n",
        "            k0 = K0\n",
        "            \n",
        "        if t > t_changeKt:\n",
        "            kt = kt2 = 0.5\n",
        "        else:\n",
        "            kt = 0.075; kt2 = 0\n",
        "\n",
        "        if t > t_e:\n",
        "            mu = MU\n",
        "        else:\n",
        "            mu = 0\n",
        "\n",
        "        dSdt = - beta * (I + kspread * (A + b1 * Xa) + b2 * Xi + b3 * P) * S/N - k0 * S + mu * Xs\n",
        "        dAdt = beta * (I + kspread * (A + b1 * Xa) + b2 * Xi + b3 * P) * S/N - sigma * A - k0 * A + mu * Xa - gamma1 * A - kt2 * A\n",
        "        dIdt = sigma * A  - kt * I - k0 * I + mu * Xi - gamma2 * I\n",
        "\n",
        "        dXsdt = - beta * beta1 * (I + kspread * (A + b1 * Xa) + b2 * Xi + b3 * P) * Xs/N + k0 * S - mu * Xs\n",
        "        dXadt = beta * beta1 * (I + kspread * (A + b1 * Xa) + b2 * Xi + b3 * P) * Xs/N - sigma * Xa + k0 * A - mu * Xa - gamma1 * Xa - kt2 * Xa\n",
        "        dXidt = sigma * Xa - kt * Xi + k0 * I - mu * Xi - gamma2 * Xi\n",
        "\n",
        "        dPdt = kt * (I + Xi) - gamma3 * P + kt2 * (A + Xa)\n",
        "        dRdt = gamma1 * (A + Xa) + gamma2 * (I + Xi) + gamma3 * P\n",
        "\n",
        "        return dSdt, dAdt, dIdt, dXsdt, dXadt, dXidt, dPdt, dRdt\n",
        "\n",
        "    # Initial conditions vector\n",
        "    y0 = S0, A0, I0, Xs0, Xa0, Xi0, P0, R0\n",
        "    # Integrate the SIR equations over the time grid, t.\n",
        "    ret = odeint(deriv, y0, t, args=(N, beta))\n",
        "    S, A, I, Xs, Xa, Xi, P, R = ret.T\n",
        "    if not plot: return P, R\n",
        "    else: return P, I + Xi + P, P + I + Xi + A + Xa\n",
        "\n",
        "# temp = getPreds(0.31, 0)"
      ],
      "execution_count": 0,
      "outputs": []
    },
    {
      "cell_type": "code",
      "metadata": {
        "id": "IenThrjNpBbm",
        "colab_type": "code",
        "outputId": "2937ff82-27ed-45e1-9b1f-24d1703d443a",
        "colab": {
          "base_uri": "https://localhost:8080/",
          "height": 68
        }
      },
      "source": [
        "def readDataMaharashtra(startIndex = 0):\n",
        "    file = open('Tirunelveli.csv', 'r')\n",
        "    reader = csv.reader(file)\n",
        "    confirmed, recovered, dead = None, None, None\n",
        "    count = -1\n",
        "    i, r = [], []\n",
        "    for row in reader:\n",
        "        count += 1\n",
        "        if count < startIndex: continue\n",
        "        confirmed = int(row[2])\n",
        "        recovered = int(row[4])\n",
        "        dead = int(row[6])\n",
        "        r.append(recovered + dead)\n",
        "        i.append(confirmed - r[-1])\n",
        "    file.close()\n",
        "    return i, r\n",
        "\n",
        "# Start from March 01, when the first case in this spread started, adjust counts as needed\n",
        "# actualI, actualR = readDataIndia(startDate = \"01 March\")\n",
        "# T = 50\n",
        "# t_l = 23 # From 24 March, ignore Janta Curfew?\n",
        "# t_e = 44\n",
        "# actualI = np.asarray(actualI); actualR = np.asarray(actualR)\n",
        "# N = 1300000000\n",
        "\n",
        "# actualI, actualR = readDataIndia(startDate = \"01 March\")\n",
        "# T = 50 - daysOffset\n",
        "# t_l = 23 - daysOffset# From 24 March, ignore Janta Curfew?\n",
        "# t_e = 44 - daysOffset\n",
        "# actualI = np.asarray(actualI[daysOffset:]); actualR = np.asarray(actualR[daysOffset:])\n",
        "# N = 1300000000\n",
        "\n",
        "\n",
        "# Maharashtra Data\n",
        "actualI, actualR = readDataMaharashtra()\n",
        "actualI = np.asarray(actualI); actualR = np.asarray(actualR)\n",
        "T = 50 - daysOffset\n",
        "t_l = 24 - daysOffset\n",
        "t_e = 24 + 21 - daysOffset\n",
        "N = 110000000\n",
        "t_changeKt = 1000000000\n",
        "kspread = 1.0\n",
        "\n",
        "# Define loss and search for the best hyperparameters (grid search for now)\n",
        "def squaredLoss(preds, target):\n",
        "    loss = ((preds - target) ** 2).sum()\n",
        "    return loss\n",
        "\n",
        "eps = 1e-8\n",
        "def squaredLossExpScale(preds, target):\n",
        "    preds = np.log(preds + eps)\n",
        "    target = np.log(target + eps)\n",
        "    loss = ((preds - target) ** 2).sum()\n",
        "    return loss\n",
        "\n",
        "bestLoss = 10000000000\n",
        "bestBeta, bestBeta1 = -1, -1\n",
        "bestPreds = None\n",
        "betaValues = np.linspace(0.1, 0.6, 51)\n",
        "beta1Values = np.linspace(0.6, 1.0, 41)\n",
        "losses = np.zeros((len(betaValues), len(beta1Values)))\n",
        "\n",
        "for i, beta in enumerate(betaValues):\n",
        "    for j, beta1 in enumerate(beta1Values):\n",
        "        predI, predR = getPreds(beta = beta, beta1 = beta1)\n",
        "        trimmedPredI = predI[:len(actualI) * samplesPerDay:samplesPerDay]\n",
        "        trimmedPredR = predR[:len(actualR) * samplesPerDay:samplesPerDay]\n",
        "        assert len(trimmedPredI) == len(actualI) and len(trimmedPredR) == len(actualR), \"Length mismatch\"\n",
        "        loss = squaredLoss(trimmedPredI, actualI)\n",
        "        losses[i, j] = loss\n",
        "        \n",
        "        if loss < bestLoss:\n",
        "            bestLoss = loss\n",
        "            bestPreds = predI, predR\n",
        "            bestBeta = beta; bestBeta1 = beta1\n",
        "\n",
        "print(\"Best beta value\", bestBeta)\n",
        "print(\"Best beta1 value\", bestBeta1)\n",
        "print(\"Best loss value\", bestLoss)"
      ],
      "execution_count": 0,
      "outputs": [
        {
          "output_type": "stream",
          "text": [
            "Best beta value 0.33999999999999997\n",
            "Best beta1 value 1.0\n",
            "Best loss value 300.2311500252526\n"
          ],
          "name": "stdout"
        }
      ]
    },
    {
      "cell_type": "markdown",
      "metadata": {
        "id": "WGp0xHWNv7PM",
        "colab_type": "text"
      },
      "source": [
        "RESCALING SOCIAL VULNERABILITY VALUES"
      ]
    },
    {
      "cell_type": "code",
      "metadata": {
        "id": "cCQDTlhJyQfy",
        "colab_type": "code",
        "outputId": "ad3fbae6-387f-48f5-da8f-9f1815ce29a3",
        "colab": {
          "resources": {
            "http://localhost:8080/nbextensions/google.colab/files.js": {
              "data": "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",
              "ok": true,
              "headers": [
                [
                  "content-type",
                  "application/javascript"
                ]
              ],
              "status": 200,
              "status_text": ""
            }
          },
          "base_uri": "https://localhost:8080/",
          "height": 74
        }
      },
      "source": [
        "from google.colab import files\n",
        "uploaded = files.upload()"
      ],
      "execution_count": 0,
      "outputs": [
        {
          "output_type": "display_data",
          "data": {
            "text/html": [
              "\n",
              "     <input type=\"file\" id=\"files-b79347a0-27b3-4042-a100-d779dbe03a89\" name=\"files[]\" multiple disabled />\n",
              "     <output id=\"result-b79347a0-27b3-4042-a100-d779dbe03a89\">\n",
              "      Upload widget is only available when the cell has been executed in the\n",
              "      current browser session. Please rerun this cell to enable.\n",
              "      </output>\n",
              "      <script src=\"/nbextensions/google.colab/files.js\"></script> "
            ],
            "text/plain": [
              "<IPython.core.display.HTML object>"
            ]
          },
          "metadata": {
            "tags": []
          }
        },
        {
          "output_type": "stream",
          "text": [
            "Saving Vulnerability_covid.csv to Vulnerability_covid.csv\n"
          ],
          "name": "stdout"
        }
      ]
    },
    {
      "cell_type": "code",
      "metadata": {
        "id": "AxXnBtrFv9Ij",
        "colab_type": "code",
        "colab": {}
      },
      "source": [
        "import pandas as pd\n",
        "\n",
        "vul_df=pd.read_csv('Vulnerability_covid.csv')\n",
        "array = vul_df.values\n",
        "Y = array[:,4] \n",
        "max_Y=max(Y)\n",
        "min_Y=min(Y)\n",
        "\n",
        "rescaled_list=[]\n",
        "range=max_Y-min_Y\n",
        "for index, row in vul_df.iterrows():\n",
        "  a=(row['Social_vul_using_Cutter_and_Finch_PNAS_2008']-min_Y)/range\n",
        "  rescaled_list.append(a)\n",
        "\n",
        "vul_df['rescaled_vulnerability']=rescaled_list\n",
        "vul_df.to_csv('social_vulnerability_covid.csv', index=False)"
      ],
      "execution_count": 0,
      "outputs": []
    },
    {
      "cell_type": "code",
      "metadata": {
        "id": "AL0lrTvT2ETH",
        "colab_type": "code",
        "colab": {}
      },
      "source": [
        "from google.colab import files\n",
        "files.download('social_vulnerability_covid.csv')"
      ],
      "execution_count": 0,
      "outputs": []
    },
    {
      "cell_type": "code",
      "metadata": {
        "id": "cX4RioKsKC3j",
        "colab_type": "code",
        "colab": {}
      },
      "source": [
        "vulnerable_df=pd.read_csv('social_vulnerability_covid.csv')\n",
        "vul_list=[]\n",
        "dist_list=[]\n",
        "for district in ordered_district_list:\n",
        "  for index, row in vulnerable_df.iterrows():\n",
        "    if district==row['Shapefile_Dist_2011']:\n",
        "      vul_list.append(row['rescaled_vulnerability'])\n",
        "      dist_list.append(district) \n",
        "vuln_df=pd.DataFrame(list(zip(dist_list, vul_list)), \n",
        "               columns =['district', 'rescaled_vulnerability'])\n"
      ],
      "execution_count": 0,
      "outputs": []
    },
    {
      "cell_type": "code",
      "metadata": {
        "id": "MDcAFPydLeYJ",
        "colab_type": "code",
        "colab": {}
      },
      "source": [
        "vuln_df.to_csv('ordered_vulnerability.csv', index=False)\n",
        "from google.colab import files\n",
        "files.download('ordered_vulnerability.csv')"
      ],
      "execution_count": 0,
      "outputs": []
    },
    {
      "cell_type": "code",
      "metadata": {
        "id": "aJyBUYTe4W-s",
        "colab_type": "code",
        "outputId": "ecb4e467-1441-4161-82d4-a70aad026eb9",
        "colab": {
          "resources": {
            "http://localhost:8080/nbextensions/google.colab/files.js": {
              "data": "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",
              "ok": true,
              "headers": [
                [
                  "content-type",
                  "application/javascript"
                ]
              ],
              "status": 200,
              "status_text": ""
            }
          },
          "base_uri": "https://localhost:8080/",
          "height": 74
        }
      },
      "source": [
        "from google.colab import files\n",
        "uploaded=files.upload()"
      ],
      "execution_count": 0,
      "outputs": [
        {
          "output_type": "display_data",
          "data": {
            "text/html": [
              "\n",
              "     <input type=\"file\" id=\"files-04027554-c635-466e-8cb8-54ae2409c7d7\" name=\"files[]\" multiple disabled />\n",
              "     <output id=\"result-04027554-c635-466e-8cb8-54ae2409c7d7\">\n",
              "      Upload widget is only available when the cell has been executed in the\n",
              "      current browser session. Please rerun this cell to enable.\n",
              "      </output>\n",
              "      <script src=\"/nbextensions/google.colab/files.js\"></script> "
            ],
            "text/plain": [
              "<IPython.core.display.HTML object>"
            ]
          },
          "metadata": {
            "tags": []
          }
        },
        {
          "output_type": "stream",
          "text": [
            "Saving Vulnerability_Analysis - Sheet1 (1).csv to Vulnerability_Analysis - Sheet1 (1).csv\n"
          ],
          "name": "stdout"
        }
      ]
    },
    {
      "cell_type": "code",
      "metadata": {
        "id": "CLX1FAEE7gHT",
        "colab_type": "code",
        "outputId": "b27fb12e-8d25-4d5c-ca73-b2925b566705",
        "colab": {
          "base_uri": "https://localhost:8080/",
          "height": 357
        }
      },
      "source": [
        "import pandas as pd\n",
        "import matplotlib.pyplot as plt\n",
        "import numpy as np\n",
        "\n",
        "model_df=pd.read_csv('Vulnerability_Analysis - Sheet1 (1).csv')\n",
        "\n",
        "array=model_df.values \n",
        "array"
      ],
      "execution_count": 0,
      "outputs": [
        {
          "output_type": "execute_result",
          "data": {
            "text/plain": [
              "array([['Mumbai', 0.25, 0.24610900000000002],\n",
              "       ['Chennai', 0.22, 0.23754099999999997],\n",
              "       ['Pune', 0.16, 0.490497],\n",
              "       ['Kasaragod', 0.24, 0.35886],\n",
              "       ['Indore', 0.46, 0.37453800000000004],\n",
              "       ['Jaipur', 0.3, 0.533198],\n",
              "       ['Hyderabad', 0.2, 0.333017],\n",
              "       ['Thane', 0.19, 0.539349],\n",
              "       ['Bhopal', 0.6, 0.41928699999999997],\n",
              "       ['Ahmadabad', 0.23, 0.40806],\n",
              "       ['Kurnool', 0.6, 0.507266],\n",
              "       ['Coimbatore', 0.6, 0.282455],\n",
              "       ['Agra', 0.27, 0.545114],\n",
              "       ['Bengaluru', 0.1, 0.409306],\n",
              "       ['Kannur', 0.1, 0.320062],\n",
              "       ['Gautam Buddha Nagar', 0.11, 0.30225799999999997],\n",
              "       ['S.P.S. Nellore', 0.42, 0.518966],\n",
              "       ['Guntur', 0.28, 0.473469],\n",
              "       ['Dindigul', 0.6, 0.37738],\n",
              "       ['Tirunelveli', 0.34, 0.358315]], dtype=object)"
            ]
          },
          "metadata": {
            "tags": []
          },
          "execution_count": 19
        }
      ]
    },
    {
      "cell_type": "code",
      "metadata": {
        "id": "ViShR0W54tTT",
        "colab_type": "code",
        "outputId": "1bf924c9-c6fa-4922-9261-539f93fa9c2c",
        "colab": {
          "base_uri": "https://localhost:8080/",
          "height": 265
        }
      },
      "source": [
        "import pandas as pd\n",
        "import matplotlib.pyplot as plt\n",
        "import numpy as np\n",
        "from sklearn.linear_model import LinearRegression\n",
        "\n",
        "model_df=pd.read_csv('Vulnerability_Analysis - Sheet1 (1).csv')\n",
        "\n",
        "array=model_df.values \n",
        "\n",
        "X=np.array(array[:,1:2])\n",
        "y=np.array(array[:,2])\n",
        "\n",
        "lin = LinearRegression()   \n",
        "lin.fit(X, y)\n",
        "\n",
        "plt.scatter(X, y, color = 'blue') \n",
        "plt.grid('True')"
      ],
      "execution_count": 0,
      "outputs": [
        {
          "output_type": "display_data",
          "data": {
            "image/png": "iVBORw0KGgoAAAANSUhEUgAAAXoAAAD4CAYAAADiry33AAAABHNCSVQICAgIfAhkiAAAAAlwSFlz\nAAALEgAACxIB0t1+/AAAADh0RVh0U29mdHdhcmUAbWF0cGxvdGxpYiB2ZXJzaW9uMy4yLjEsIGh0\ndHA6Ly9tYXRwbG90bGliLm9yZy+j8jraAAAWtElEQVR4nO3df4wcZ33H8ffnjJzq4lRNanpF/nUO\nMioOoMBdnVaoyK4CmCLZlbBahyOKpaZHUKwgaKsmchskg8WPVpEqxbS9ppGocvSgRYoO4Tai9LYt\nRQHbxYBsZLgYO7HVlhAjosMhjvG3f+wcGV9v7+Zud2dun/m8pNXuPPPM7vPddb735JlnnlFEYGZm\n6eqrugFmZtZdTvRmZolzojczS5wTvZlZ4pzozcwS94qqGzDX2rVrY3BwcNnH//jHP+b666/vXIN6\nQN1irlu84Jjrop2Yjx8//oOIeOV8+1Zcoh8cHOTYsWPLPr7RaLB9+/bONagH1C3musULjrku2olZ\n0rlW+zx0Y2aWOCd6M7PEFUr0knZKOi1pWtL98+zfJ+lZSSeyx925fT/NlU92svFmZra4RcfoJa0C\nDgNvBc4DRyVNRsSpOVU/ExH753mLFyLi1vabamZmy1GkR78NmI6IMxFxGZgAdne3WWZm1ilabFEz\nSXuAnRFxd7Z9J3BbvvcuaR/wUeBZ4DvAByLimWzfFeAEcAX4WEQ8Ps9njAKjAAMDA0MTExPLDmhm\nZoY1a9Ys+/hetNJjvngRLlyAy5dh9WpYtw5uumn577fS4+0Gx1wP7cS8Y8eO4xExPO/OiFjwAewB\nHslt3wk8PKfOLwLXZa/fC/xrbt+67Plm4Czw6oU+b2hoKNoxNTXV1vG9aCXH/NhjEf39EfDyo7+/\nWb5cKznebnHM9dBOzMCxaJFXiwzdXAA25LbXZ2X5PxbPRcSL2eYjwFBu34Xs+QzQAN5Y4DMtEQcO\nwKVL15ZdutQsN7NyFEn0R4EtkjZLWg3sBa6ZPSPpVbnNXcC3s/IbJV2XvV4LvBmYexLXEvb000sr\nN7POWzTRR8QVYD/wBM0E/tmIOCnpoKRdWbX7JJ2U9A3gPmBfVv5a4FhWPkVzjN6JfgnGx2FwEPr6\nms/j41W3aGk2blxauZl1XqElECLiCHBkTtmDudcPAA/Mc9xXgNe32cbaGh+H0dGXhz7OnWtuA4yM\nVNeupTh06NoYAPr7m+VmVg5fGbuCpTC+PTICY2OwaRNIzeexsd75Q2WWghW3qJm9LJXx7ZERJ3az\nKrlHv4J5fPtas+crjh/vzfMVZlVxol/BDh1qjmfn1XV8e/Z8xblsIdbZ8xVO9maLc6JfwTy+/bIU\nzleYVcVj9Cucx7ebUjlfYVYF9+itJ/h8hdnyOdFbT/D5CrPlc6K3npA/XwH1Pl9htlQeo7eeMXu+\notGAs2erbo1Z73CP3swscU70Zgnp9UXwrDs8dGOWiBQWwbPucI/eLBG+qMxacaI3S4QvKrNWnOjN\nEuGLyqwVJ3qzRPiiMmvFid4sEV4Ez1rxrBuzhHgRPJuPe/RmZhXr9k113KM3M6tQGdc/uEdvZlah\nMq5/cKI3M6tQGdc/FEr0knZKOi1pWtL98+zfJ+lZSSeyx925fXdJ+m72uKtzTTcz631lXP+waKKX\ntAo4DLwD2ArcIWnrPFU/ExG3Zo9HsmNvAj4E3AZsAz4k6caOtd7MrMeVcf1DkR79NmA6Is5ExGVg\nAthd8P3fDnwxIi5GxA+BLwI7l9dUM7P0lHFTHUXEwhWkPcDOiLg7274TuC0i9ufq7AM+CjwLfAf4\nQEQ8I+kPgZ+LiI9k9f4UeCEi/nzOZ4wCowADAwNDExMTyw5oZmaGNWvWLPv4XlS3mOsWLzjmumgn\n5h07dhyPiOH59nVqeuXngb+PiBclvRf4FPCbRQ+OiDFgDGB4eDi2b9++7IY0Gg3aOb4X1S3musUL\njrkuuhVzkaGbC8CG3Pb6rOxnIuK5iHgx23wEGCp6rJmZdVeRRH8U2CJps6TVwF5gMl9B0qtym7uA\nb2evnwDeJunG7CTs27Ky5PlOP2a2Uiw6dBMRVyTtp5mgVwGPRsRJSQeBYxExCdwnaRdwBbgI7MuO\nvSjpwzT/WAAcjIiLXYhjRfGdfsxsJSk0Rh8RR4Ajc8oezL1+AHigxbGPAo+20caes9CVbk70ZlY2\nXxnbBb7Tj5mtJE70XeA7/ZjZSuJE3wW+04+ZrSRO9F3gO/2Y2Uri9ei7xHf6MbOVwj16M7PEOdGb\nmSXOid7MLHFO9FYZLxNhVg6fjLVKeJkIs/K4R2+VKOOGyGbW5ERvlfAyEWblcaK3SniZCLPyONFb\nJbxMhFl5nOitEl4mwqw8nnVjlfEyEWblcI/ezCxxTvRmZolzojczS5wTvZlZ4pzozcwS50RvZpY4\nJ3ozs8QVSvSSdko6LWla0v0L1HuXpJA0nG0PSnpB0ons8VedariZmRWz6AVTklYBh4G3AueBo5Im\nI+LUnHo3AO8HvjrnLZ6KiFs71F4zM1uiIj36bcB0RJyJiMvABLB7nnofBj4O/KSD7TMzszYVWQJh\nHfBMbvs8cFu+gqQ3ARsi4guS/mjO8ZslfR14HviTiPiPuR8gaRQYBRgYGKDRaBSPYI6ZmZm2ju9F\ndYu5bvGCY66LbsXc9lo3kvqAh4B98+z+b2BjRDwnaQh4XNItEfF8vlJEjAFjAMPDw7F9+/Zlt6fR\naNDO8b2objHXLV5wzHXRrZiLDN1cADbkttdnZbNuAF4HNCSdBX4NmJQ0HBEvRsRzABFxHHgKeE0n\nGm5mZsUUSfRHgS2SNktaDewFJmd3RsSPImJtRAxGxCDwJLArIo5JemV2MhdJNwNbgDMdj8LMzFpa\ndOgmIq5I2g88AawCHo2Ik5IOAsciYnKBw98CHJT0EnAVuCciLnai4WZmVkyhMfqIOAIcmVP2YIu6\n23OvPwd8ro32mZlZm3xlrJlZ4pzozcwS50RvZpY4J3ozs8Q50ZuZJc6J3swscU70ZmaJc6I3M0uc\nE72ZWeKc6M3MEudEb2aWOCd6M7OKjY/D4CAcP958Hh/v7Pu3feMRMzNbvvFxGB2FS5ea2+fONbcB\nRkY68xnu0ZuZVejAgZeT/KxLl5rlneJEb2ZWoaefXlr5cjjRm5lVaOPGpZUvhxO9mVmFDh2C/v5r\ny/r7m+Wd4kRvZlahkREYG4NNm5rbmzY1tzt1IhYSSvTdnp6Ustnvrq/P351ZFUZG4OxZGBpqPncy\nyUMi0yvLmJ6UKn93ZulLokdfxvSkVPm7M0tfEom+jOlJqfJ3Z5a+JBJ9GdOTUuXvzix9hRK9pJ2S\nTkualnT/AvXeJSkkDefKHsiOOy3p7Z1o9FxlTE9Klb87s/QtmuglrQIOA+8AtgJ3SNo6T70bgPcD\nX82VbQX2ArcAO4FPZu/XUWVMT0pV/ruT/N2ZpahIj34bMB0RZyLiMjAB7J6n3oeBjwM/yZXtBiYi\n4sWI+B4wnb1fx3V7elLKZr+7q1f93ZmlqEiiXwc8k9s+n5X9jKQ3ARsi4gtLPdbMzLqr7Xn0kvqA\nh4B9bbzHKDAKMDAwQKPRWHZ7ZmZm2jq+F9Ut5rrFC465LroVc5FEfwHYkNten5XNugF4HdCQBPDL\nwKSkXQWOBSAixoAxgOHh4di+fXvxCOZoNBq0c3wvqlvMdYsXHHNddCvmIkM3R4EtkjZLWk3z5Ork\n7M6I+FFErI2IwYgYBJ4EdkXEsazeXknXSdoMbAG+1vEozMyspUV79BFxRdJ+4AlgFfBoRJyUdBA4\nFhGTCxx7UtJngVPAFeDeiPhph9puZmYFFBqjj4gjwJE5ZQ+2qLt9zvYhwLOyzcwqksSVsWZm1poT\nvZlZ4pzozcwS50RvZpY4J3ozs8Q50ZuZJc6J3sysYt2+53US94w1M+tVZdy32T16M1uS2d5nX193\nep91U8Z9m92jN7PCyuh91k0Z9212j97MCiuj91k3Zdy32YnezAoro/dZN2Xct9mJ3swKK6P3WTdl\n3PPaid7MCiuj91lH3b7ntRO9mRWW731K3el9Wud51o2ZLcnIiBN7r3GP3swscU70ZmaJc6K3lup4\nBWQdY7b0eYze5lXHKyDrGLPVg3v0Nq86XgFZx5itHpzobV51vAKyjjFbPTjR27zqeAVkHWO2eiiU\n6CXtlHRa0rSk++fZf4+kb0k6IenLkrZm5YOSXsjKT0j6q04HYN1Rxysg6xiz1cOiiV7SKuAw8A5g\nK3DHbCLP+XREvD4ibgU+ATyU2/dURNyaPe7pVMOtu+p4BWQdY7Z6KDLrZhswHRFnACRNALuBU7MV\nIuL5XP3rgehkI60adbwCso4xW/qKDN2sA57JbZ/Pyq4h6V5JT9Hs0d+X27VZ0tcl/Zuk32irtWZm\ntmSKWLjzLWkPsDMi7s627wRui4j9Leq/G3h7RNwl6TpgTUQ8J2kIeBy4Zc7/ASBpFBgFGBgYGJqY\nmFh2QDMzM6xZs2bZx/eiusVct3jBMddFOzHv2LHjeEQMz7szIhZ8AL8OPJHbfgB4YIH6fcCPWuxr\nAMMLfd7Q0FC0Y2pqqq3je1HdYq5bvBGOuS7aiRk4Fi3yapGhm6PAFkmbJa0G9gKT+QqStuQ23wl8\nNyt/ZXYyF0k3A1uAMwU+08zMOmTRk7ERcUXSfuAJYBXwaESclHSQ5l+QSWC/pNuBl4AfAndlh78F\nOCjpJeAqcE9EXOxGIGZmNr9Ca91ExBHgyJyyB3Ov39/iuM8Bn2ungWZm1h5fGWtmljgnejOzxDnR\nm5klzom+h83eJOP4cd8kw8xa841HepRvkmFmRblH36N8kwwzK8qJvkf5JhlmVpQTfY/yTTLMrCgn\n+h7lm2SYWVFO9D0qf5MM8E0yzKw1z7rpYbM3yWg04OzZqltjZitVMj16zyk3M5tfEj16zyk3M2st\niR6955SbmbWWRKL3nHIzs9aSSPSeU25m1loSid5zys3MWksi0XtOuZlZa0nMugHPKTczayWJHr2Z\nmbXmRG9mljgnejOzxCWf6GeXRujr89IIZlZPyZyMnY+XRjAzK9ijl7RT0mlJ05Lun2f/PZK+JemE\npC9L2prb90B23GlJb+9k4xfjpRHMzAokekmrgMPAO4CtwB35RJ75dES8PiJuBT4BPJQduxXYC9wC\n7AQ+mb1fKbw0gplZsR79NmA6Is5ExGVgAtidrxARz+c2rwcie70bmIiIFyPie8B09n6l8NIIZmbF\nxujXAc/kts8Dt82tJOle4IPAauA3c8c+OefYdfMcOwqMAgwMDNBoNAo0a34zMzM/O/6hh5rj8lev\nvry/r6955WwbH7Hi5GOug7rFC465LroWc0Qs+AD2AI/ktu8EHl6g/ruBT2WvHwbek9v3t8CehT5v\naGgo2jE1NXXN9mOPRWzaFCE1nx97rK23X5Hmxpy6usUb4Zjrop2YgWPRIq8W6dFfADbkttdnZa1M\nAH+5zGM7bnZpBDOzuioyRn8U2CJps6TVNE+uTuYrSNqS23wn8N3s9SSwV9J1kjYDW4Cvtd9sMzMr\natEefURckbQfeAJYBTwaESclHaT5vwqTwH5JtwMvAT8E7sqOPSnps8Ap4Apwb0T8tEuxmJnZPApd\nMBURR4Ajc8oezL1+/wLHHgK8MryZWUWSXwLBzKzunOjNzBLnRG9mVrHZxRePH+/O4otJL2pmZrbS\nlbH4onv0ZmYVKmPxRSd6M7MKlbH4ohO9mVmFylh80YnezKxChw5Bf/+1Zf39zfJOcaI3M6vQyAiM\njTVX1YXm89hYZ9fo8qwbM7OKzS6+2GjA2bOdf3/36M3MEudEb2aWOCd6M7PEOdGbmSXOid7MLHFO\n9GZmiXOiNzNLnBO9mVninOjNzBLnRG9mljgnejOzxDnRm5klzonezCxxhRK9pJ2STkualnT/PPs/\nKOmUpG9K+pKkTbl9P5V0IntMdrLxZma2uEWXKZa0CjgMvBU4DxyVNBkRp3LVvg4MR8QlSe8DPgH8\nbrbvhYi4tcPtNjOzgor06LcB0xFxJiIuAxPA7nyFiJiKiNnb2z4JrO9sM20lGR+HwUHo62s+j49X\n3SIzW4giYuEK0h5gZ0TcnW3fCdwWEftb1H8Y+J+I+Ei2fQU4AVwBPhYRj89zzCgwCjAwMDA0MTGx\n7IBmZmZYs2bNso/vRWXGfPEinDsHV6++XNbX17wrzk03ldIE/8Y14ZiXZseOHccjYnjenRGx4APY\nAzyS274TeLhF3ffQ7NFflytblz3fDJwFXr3Q5w0NDUU7pqam2jq+F5UZ86ZNEfD/H5s2ldYE/8Y1\n4ZiXBjgWLfJqkaGbC8CG3Pb6rOwakm4HDgC7IuLF3B+SC9nzGaABvLHAZ9oK9fTTSys3s+oVSfRH\ngS2SNktaDewFrpk9I+mNwF/TTPLfz5XfKOm67PVa4M1A/iSu9ZiNG5dWbmbVWzTRR8QVYD/wBPBt\n4LMRcVLSQUm7smp/BqwB/mHONMrXAsckfQOYojlG70Tfww4dgv7+a8v6+5vlZrYyLTq9EiAijgBH\n5pQ9mHt9e4vjvgK8vp0GWueMj8OBA81hlo0bm8l5ZGRp7zFbv933MbPyFEr01vvGx2F0FC5lk2DP\nnWtuw/KSvRO7We/wEgg1ceDAy0l+1qVLzXIzS5sTfU14toxZfTnR14Rny5jVlxN9TXi2jFl9OdHX\nxMgIjI01lyqQms9jYz6palYHnnVTI54tY1ZP7tGbmSXOid7MLHFO9GZmiXOiNzNLnBO9mVniFr3D\nVNkkPQuca+Mt1gI/6FBzekXdYq5bvOCY66KdmDdFxCvn27HiEn27JB2LVrfTSlTdYq5bvOCY66Jb\nMXvoxswscU70ZmaJSzHRj1XdgArULea6xQuOuS66EnNyY/RmZnatFHv0ZmaW40RvZpa4nkz0knZK\nOi1pWtL98+x/i6T/knRF0p4q2thpBWL+oKRTkr4p6UuSNlXRzk4qEPM9kr4l6YSkL0vaWkU7O2mx\nmHP13iUpJPX89MMCv/M+Sc9mv/MJSXdX0c5OKvI7S/qd7L/pk5I+3dYHRkRPPYBVwFPAzcBq4BvA\n1jl1BoE3AH8H7Km6zSXFvAPoz16/D/hM1e0uIeafz73eBfxz1e3udsxZvRuAfweeBIarbncJv/M+\n4OGq21pyzFuArwM3Ztu/1M5n9mKPfhswHRFnIuIyMAHszleIiLMR8U3gahUN7IIiMU9FxOztv58E\n1pfcxk4rEvPzuc3rgV6fWbBozJkPAx8HflJm47qkaMwpKRLz7wOHI+KHABHx/XY+sBcT/Trgmdz2\n+awsZUuN+feAf+pqi7qvUMyS7pX0FPAJ4L6S2tYti8Ys6U3Ahoj4QpkN66Ki/7bflQ1L/qOkDeU0\nrWuKxPwa4DWS/lPSk5J2tvOBvZjobQGS3gMMA39WdVvKEBGHI+LVwB8Df1J1e7pJUh/wEPAHVbel\nZJ8HBiPiDcAXgU9V3J4yvILm8M124A7gbyT9wnLfrBcT/QUg/xd9fVaWskIxS7odOADsiogXS2pb\ntyz1d54AfrurLeq+xWK+AXgd0JB0Fvg1YLLHT8gu+jtHxHO5f8+PAEMlta1bivzbPg9MRsRLEfE9\n4Ds0E/+y9GKiPwpskbRZ0mpgLzBZcZu6bdGYJb0R+GuaSb6t8bwVokjM+X/47wS+W2L7umHBmCPi\nRxGxNiIGI2KQ5rmYXRFxrJrmdkSR3/lVuc1dwLdLbF83FMlhj9PszSNpLc2hnDPL/sSqz0Av86z1\nb9H8C/cUcCArO0jzHz3Ar9L8i/hj4DngZNVtLiHmfwH+FziRPSarbnMJMf8FcDKLdwq4peo2dzvm\nOXUb9Pism4K/80ez3/kb2e/8K1W3uYSYRXOY7hTwLWBvO5/nJRDMzBLXi0M3Zma2BE70ZmaJc6I3\nM0ucE72ZWeKc6M3MEudEb2aWOCd6M7PE/R/C7fG4p0u7HQAAAABJRU5ErkJggg==\n",
            "text/plain": [
              "<Figure size 432x288 with 1 Axes>"
            ]
          },
          "metadata": {
            "tags": []
          }
        }
      ]
    },
  ]
}
